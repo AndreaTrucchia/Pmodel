{
 "cells": [
  {
   "cell_type": "code",
   "execution_count": 2,
   "metadata": {
    "collapsed": true
   },
   "outputs": [],
   "source": [
    "import sys\n",
    "sys.path.append(['../'])\n",
    "from scipy.io import loadmat"
   ]
  },
  {
   "cell_type": "code",
   "execution_count": 3,
   "metadata": {},
   "outputs": [],
   "source": [
    "from pmodel import utils"
   ]
  },
  {
   "cell_type": "code",
   "execution_count": 10,
   "metadata": {},
   "outputs": [
    {
     "data": {
      "text/plain": [
       "(20, 20, 10000000, 0, 2000)"
      ]
     },
     "execution_count": 10,
     "metadata": {},
     "output_type": "execute_result"
    }
   ],
   "source": [
    "step_x, step_y, max_y, min_x, tile_dim = utils.load_tile_ref(33, 'quo')\n",
    "step_x, step_y, max_y, min_x, tile_dim\n",
    "#tiles ref\n",
    "for x in range(min_x, min_x)"
   ]
  },
  {
   "cell_type": "code",
   "execution_count": 5,
   "metadata": {},
   "outputs": [],
   "source": [
    "i = 1 + np.floor((max_y - y) / step_y)\n",
    "j = 1 + np.floor((x - min_x) / step_x)\n",
    "\n",
    "half_dim = np.ceil(dim / 2)\n",
    "i_min = i - half_dim\n",
    "j_min = j - half_dim\n",
    "i_max = i + half_dim\n",
    "j_max = j + half_dim\n",
    "min_easting = (j_min * step_x) + min_x\n",
    "max_northing = max_y - (i_min * step_y)\n",
    "\n",
    "\n",
    "tile_i_min = get_tile(i_min, tile_dim)\n",
    "idx_i_min = get_idx(i_min, tile_dim)\n",
    "tile_i_max = get_tile(i_max, tile_dim)\n",
    "idx_i_max = get_idx(i_max, tile_dim)\n",
    "    \n",
    "    \n",
    "    \n",
    "    "
   ]
  },
  {
   "cell_type": "code",
   "execution_count": 3,
   "metadata": {},
   "outputs": [],
   "source": [
    "from pyproj import Proj\n",
    "import utm"
   ]
  },
  {
   "cell_type": "code",
   "execution_count": 9,
   "metadata": {
    "collapsed": true
   },
   "outputs": [
    {
     "data": {
      "text/plain": [
       "(500000.0, 9328093.831101185, 32, 'X')"
      ]
     },
     "execution_count": 9,
     "metadata": {},
     "output_type": "execute_result"
    }
   ],
   "source": [
    "utm.from_latlon(84, 9, force_zone_number=32)"
   ]
  },
  {
   "cell_type": "code",
   "execution_count": 10,
   "metadata": {},
   "outputs": [
    {
     "data": {
      "text/plain": [
       "(90.01822722357227, 9.0)"
      ]
     },
     "execution_count": 10,
     "metadata": {},
     "output_type": "execute_result"
    }
   ],
   "source": [
    "utm.to_latlon(500000, 10000000, 32, 'X')\n"
   ]
  },
  {
   "cell_type": "code",
   "execution_count": null,
   "metadata": {},
   "outputs": [],
   "source": []
  }
 ],
 "metadata": {
  "kernelspec": {
   "display_name": "Python 2",
   "language": "python",
   "name": "python2"
  },
  "language_info": {
   "codemirror_mode": {
    "name": "ipython",
    "version": 2
   },
   "file_extension": ".py",
   "mimetype": "text/x-python",
   "name": "python",
   "nbconvert_exporter": "python",
   "pygments_lexer": "ipython2",
   "version": "2.7.6"
  }
 },
 "nbformat": 4,
 "nbformat_minor": 0
}
