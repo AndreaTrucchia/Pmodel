{
 "cells": [
  {
   "cell_type": "code",
   "execution_count": 44,
   "metadata": {},
   "outputs": [
    {
     "name": "stdout",
     "output_type": "stream",
     "text": [
      "Populating the interactive namespace from numpy and matplotlib\n"
     ]
    },
    {
     "name": "stderr",
     "output_type": "stream",
     "text": [
      "/Users/mirkodandrea/anaconda3/lib/python3.5/site-packages/IPython/core/magics/pylab.py:160: UserWarning: pylab import has clobbered these variables: ['shape']\n",
      "`%matplotlib` prevents importing * from pylab and numpy\n",
      "  \"\\n`%matplotlib` prevents importing * from pylab and numpy\"\n"
     ]
    }
   ],
   "source": [
    "%pylab inline\n",
    "import scipy.io\n",
    "import numpy as np\n",
    "from rasterio.features import shapes\n",
    "\n",
    "from shapely.geometry import shape, GeometryCollection, MultiLineString, LineString\n",
    "from scipy.ndimage import filters\n",
    "from scipy.signal.signaltools import medfilt2d\n",
    "from shapely.geometry import mapping\n",
    "from scipy.ndimage.morphology import binary_erosion, binary_dilation\n"
   ]
  },
  {
   "cell_type": "code",
   "execution_count": 65,
   "metadata": {},
   "outputs": [],
   "source": [
    "import pickle\n",
    "values, transf = pickle.load(open('test_data_60.p', 'rb'))"
   ]
  },
  {
   "cell_type": "code",
   "execution_count": 66,
   "metadata": {},
   "outputs": [],
   "source": [
    "def smooth_linestring(linestring, smooth_sigma):\n",
    "    \"\"\"\n",
    "    Uses a gauss filter to smooth out the LineString coordinates.\n",
    "    \"\"\"\n",
    "    smooth_x = np.array(\n",
    "        filters.gaussian_filter1d(\n",
    "            linestring.xy[0],\n",
    "            smooth_sigma\n",
    "        ))\n",
    "    smooth_y = np.array(\n",
    "        filters.gaussian_filter1d(\n",
    "            linestring.xy[1],\n",
    "            smooth_sigma\n",
    "        ))\n",
    "\n",
    "    # close the linestring\n",
    "    smooth_y[-1] = smooth_y[0]\n",
    "    smooth_x[-1] = smooth_x[0]\n",
    "\n",
    "    smoothed_coords = np.hstack((smooth_x, smooth_y))\n",
    "    smoothed_coords = zip(smooth_x, smooth_y)\n",
    "\n",
    "    linestring_smoothed = LineString(smoothed_coords)\n",
    "\n",
    "    return linestring_smoothed\n"
   ]
  },
  {
   "cell_type": "code",
   "execution_count": 67,
   "metadata": {},
   "outputs": [
    {
     "data": {
      "image/svg+xml": [
       "<svg xmlns=\"http://www.w3.org/2000/svg\" xmlns:xlink=\"http://www.w3.org/1999/xlink\" width=\"100.0\" height=\"100.0\" viewBox=\"9.22569346274807 41.21490021655534 0.0012431958378620322 0.000809228006403373\" preserveAspectRatio=\"xMinYMin meet\"><g transform=\"matrix(1,0,0,-1,0,82.43060966111709)\"><g><polyline fill=\"none\" stroke=\"#66cc99\" stroke-width=\"2.4863916757240646e-05\" points=\"9.2264068806962,41.215088301693754 9.22653515512785,41.21510010166051 9.22668600239438,41.21515395404282 9.226802572075805,41.21525297387513 9.226890614295641,41.2153597100395 9.226887737744068,41.215470471340176 9.226765147227436,41.21557623890429 9.226500728317149,41.21566340027145 9.2261284244166,41.2156624316712 9.225864005506311,41.21556344108809 9.225741444238873,41.21540478974191 9.225739507038362,41.21520686707407 9.225838380624701,41.215048215727904 9.22599606337062,41.214949166646406 9.226182156822507,41.214946260845636 9.2264068806962,41.215088301693754\" opacity=\"0.8\" /></g></g></svg>"
      ],
      "text/plain": [
       "<shapely.geometry.multilinestring.MultiLineString at 0x126b92358>"
      ]
     },
     "metadata": {},
     "output_type": "display_data"
    }
   ],
   "source": [
    "thresholds = [0.5, 0.75, 0.9]\n",
    "med_filt_val = 9\n",
    "min_length = 0.00001\n",
    "smooth_sigma = 1.0\n",
    "simp_fact=0.00001\n",
    "\n",
    "#if the dimension of the burned area is low, we do not filter it\n",
    "if np.sum(values > 0) <= 100:\n",
    "    filt_values = values\n",
    "else:\n",
    "    filt_values = medfilt2d(values, med_filt_val)\n",
    "\n",
    "\n",
    "t  = 0.75\n",
    "over_t_ = (filt_values >= t).astype('uint8')\n",
    "over_t = binary_dilation(binary_erosion(over_t_).astype('uint8')).astype('uint8')\n",
    "g = None\n",
    "if np.sum(over_t)>4:\n",
    "    for s, v in shapes(over_t, transform=transf):\n",
    "        sh = shape(s)\n",
    "\n",
    "        \n",
    "        #if len(sh.interiors):\n",
    "        ml = [smooth_linestring(l, smooth_sigma).simplify(simp_fact) for l in sh.interiors if l.length > min_length]\n",
    "        #else:\n",
    "        #ml = [smooth_linestring(sh.exterior, smooth_sigma).simplify(simp_fact)]\n",
    "\n",
    "        g = MultiLineString(ml)\n",
    "        \n",
    "display(g)\n",
    "\n",
    "    "
   ]
  },
  {
   "cell_type": "code",
   "execution_count": 26,
   "metadata": {},
   "outputs": [
    {
     "data": {
      "text/plain": [
       "<shapely.geometry.polygon.InteriorRingSequence at 0x1241dfc88>"
      ]
     },
     "metadata": {},
     "output_type": "display_data"
    }
   ],
   "source": [
    "display(sh.interiors)"
   ]
  },
  {
   "cell_type": "code",
   "execution_count": 21,
   "metadata": {},
   "outputs": [
    {
     "data": {
      "image/svg+xml": [
       "<svg xmlns=\"http://www.w3.org/2000/svg\" xmlns:xlink=\"http://www.w3.org/1999/xlink\" width=\"100.0\" height=\"100.0\" viewBox=\"9.226637449636163 41.21546486324391 0.00013289480071954074 8.365106566543545e-05\" preserveAspectRatio=\"xMinYMin meet\"><g transform=\"matrix(1,0,0,-1,0,82.43101337755348)\"><g><polyline fill=\"none\" stroke=\"#66cc99\" stroke-width=\"2.657896014390815e-06\" points=\"9.22664237166582,41.21553127876305 9.22669161540087,41.21546978527356 9.226764486181619,41.21547072149917 9.226765422407226,41.21554359227992 9.22664237166582,41.21553127876305\" opacity=\"0.8\" /></g></g></svg>"
      ],
      "text/plain": [
       "<shapely.geometry.multilinestring.MultiLineString at 0x124173cf8>"
      ]
     },
     "metadata": {},
     "output_type": "display_data"
    }
   ],
   "source": []
  },
  {
   "cell_type": "code",
   "execution_count": 64,
   "metadata": {},
   "outputs": [
    {
     "name": "stderr",
     "output_type": "stream",
     "text": [
      "/Users/mirkodandrea/anaconda3/lib/python3.5/site-packages/ipykernel/__main__.py:44: MatplotlibDeprecationWarning: pyplot.hold is deprecated.\n",
      "    Future behavior will be consistent with the long-time default:\n",
      "    plot commands add elements without first clearing the\n",
      "    Axes and/or Figure.\n"
     ]
    },
    {
     "data": {
      "text/plain": [
       "<function __main__.test>"
      ]
     },
     "execution_count": 64,
     "metadata": {},
     "output_type": "execute_result"
    },
    {
     "data": {
      "image/png": "[encoded data removed]",
      "text/plain": [
       "<matplotlib.figure.Figure at 0x11df64630>"
      ]
     },
     "metadata": {},
     "output_type": "display_data"
    }
   ],
   "source": [
    "from ipywidgets import interact, interactive, fixed, interact_manual\n",
    "import ipywidgets as widgets\n",
    "\n",
    "interact(test, med_filt_val=3, min_length=0.1, smooth_sigma=0.7, simp_fact=0.0003)"
   ]
  },
  {
   "cell_type": "code",
   "execution_count": null,
   "metadata": {},
   "outputs": [],
   "source": []
  }
 ],
 "metadata": {
  "kernelspec": {
   "display_name": "Python 3",
   "language": "python",
   "name": "python3"
  },
  "language_info": {
   "codemirror_mode": {
    "name": "ipython",
    "version": 3
   },
   "file_extension": ".py",
   "mimetype": "text/x-python",
   "name": "python",
   "nbconvert_exporter": "python",
   "pygments_lexer": "ipython3",
   "version": "3.5.2"
  }
 },
 "nbformat": 4,
 "nbformat_minor": 1
}
