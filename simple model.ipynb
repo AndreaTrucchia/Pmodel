{
 "cells": [
  {
   "cell_type": "code",
   "execution_count": 1,
   "metadata": {
    "collapsed": true
   },
   "outputs": [
    {
     "name": "stdout",
     "output_type": "stream",
     "text": [
      "Populating the interactive namespace from numpy and matplotlib\n"
     ]
    }
   ],
   "source": [
    "%pylab inline\n",
    "import numpy as np\n",
    "from propagator.propagator import *\n",
    "import propagator.logging_config\n",
    "from propagator.utils import normalize\n",
    "from propagator.utils import *\n",
    "from propagator.constants import *\n",
    "import logging\n",
    "\n"
   ]
  },
  {
   "cell_type": "code",
   "execution_count": 4,
   "metadata": {},
   "outputs": [],
   "source": [
    "grid_dim = 500\n",
    "n_threads = 10\n",
    "\n",
    "# grid resolution in meters\n",
    "step_x, step_y = 20, 20\n",
    "\n",
    "# boundary conditions array\n",
    "boundary_conditions = [\n",
    "    {\n",
    "        \"w_dir\": 335,\n",
    "        \"w_speed\": 9,\n",
    "        \"time\": 0\n",
    "    },\n",
    "    {\n",
    "        \"w_dir\": 0,\n",
    "        \"w_speed\": 10,\n",
    "        \"time\": 180\n",
    "    }\n",
    "]\n",
    "\n",
    "\n",
    "# let's create a simple uniform vegetation grid\n",
    "veg = 4 * np.ones((grid_dim, grid_dim), dtype='int8')\n",
    "\n",
    "# set the boundaries to no vegetation\n",
    "veg[:, (0, -1)] = 0\n",
    "veg[(0, -1), :] = 0\n",
    "\n",
    "# flat terrain\n",
    "dem = np.zeros((grid_dim, grid_dim), dtype='int16')\n",
    "\n",
    "# example if you want to create a slope\n",
    "for r in range(dem.shape[0]):\n",
    "    dem[r, :] = np.arange(dem.shape[1]) * -5\n",
    "\n",
    "# moisture conditions are not taken into account... we will assume worst case scenario with 0\n",
    "moist = np.zeros_like(veg)\n",
    "\n",
    "# scheduler for the execution\n",
    "ps = Scheduler()\n",
    "\n",
    "# matrix containing the status of the model, for every thread\n",
    "f_global = np.zeros((grid_dim, grid_dim, n_threads), dtype='int8')\n",
    "\n",
    "# let's start with the central pixel as first ignition point for all the simulations\n",
    "r, c = int(grid_dim/2), int(grid_dim/2)\n",
    "for t in range(n_threads):\n",
    "    # create an entry in the scheduler (pixel r,c,t will be ignited at time 0)\n",
    "    ps.push(array([r, c, t]), 0)\n",
    "    # update the status\n",
    "    f_global[r, c, t] = 0"
   ]
  },
  {
   "cell_type": "code",
   "execution_count": null,
   "metadata": {},
   "outputs": [],
   "source": [
    "# running while there are active pixels in the scheduler\n",
    "while len(ps):\n",
    "    # take the first entry in the scheduler\n",
    "    c_time, updates = ps.pop()\n",
    "\n",
    "    # extract the last valid boundary conditions for the current time\n",
    "    bc = find_bc(boundary_conditions, c_time)\n",
    "    w_dir_deg = float(bc.get('w_dir', 0))\n",
    "    wdir = normalize((180 - w_dir_deg + 90) * np.pi / 180.0)\n",
    "    wspeed = float(bc.get('w_speed', 0))\n",
    "\n",
    "    # apply updates to the status matrix\n",
    "    apply_updates(c_time, ps, updates, f_global, wspeed, wdir, dem, veg, moist)\n",
    "\n",
    "    fire_probability = np.sum(f_global, 2) / float(n_threads)\n",
    "\n",
    "    active = ps.active().tolist()\n",
    "    area_mean = np.sum(fire_probability) * step_x * step_y\n",
    "\n",
    "    if time%60 == 0:\n",
    "        logging.info(\n",
    "            f'time: {c_time}  -  active: {len(active)} - mean area: {area_mean / 10000} [ha]'\n",
    "        )\n",
    "\n",
    "    "
   ]
  },
  {
   "cell_type": "code",
   "execution_count": null,
   "metadata": {},
   "outputs": [],
   "source": []
  }
 ],
 "metadata": {
  "kernelspec": {
   "display_name": "Python [conda env:pyPropagator]",
   "language": "python",
   "name": "conda-env-pyPropagator-py"
  },
  "language_info": {
   "codemirror_mode": {
    "name": "ipython",
    "version": 3
   },
   "file_extension": ".py",
   "mimetype": "text/x-python",
   "name": "python",
   "nbconvert_exporter": "python",
   "pygments_lexer": "ipython3",
   "version": "3.6.5"
  }
 },
 "nbformat": 4,
 "nbformat_minor": 2
}
